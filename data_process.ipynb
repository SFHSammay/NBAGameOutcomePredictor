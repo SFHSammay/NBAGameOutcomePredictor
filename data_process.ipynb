{
 "cells": [
  {
   "cell_type": "code",
   "execution_count": 56,
   "metadata": {},
   "outputs": [],
   "source": [
    "import os\n",
    "import time\n",
    "import pandas as pd\n",
    "from nba_api.stats.endpoints import leaguegamefinder"
   ]
  },
  {
   "cell_type": "code",
   "execution_count": null,
   "metadata": {},
   "outputs": [],
   "source": [
    "project_dir = r\"D:\\NBANextGamePredictor\" # Choose a Path to save your files (such as .ipnyb, .py, .csv)\n",
    "if not os.path.exists(project_dir):\n",
    "    print(f\"Creating: {project_dir}\")\n",
    "    os.makedirs(project_dir)\n",
    "\n",
    "os.chdir(project_dir)\n",
    "print(\"Working directory:\", os.getcwd())"
   ]
  },
  {
   "cell_type": "code",
   "execution_count": 58,
   "metadata": {},
   "outputs": [],
   "source": [
    "subdirectory = os.path.join(project_dir, \"csvs\")\n",
    "if not os.path.exists(subdirectory):\n",
    "    print(f\"Creating subdirectory for CSVs: {subdirectory}\")\n",
    "    os.makedirs(subdirectory)"
   ]
  },
  {
   "cell_type": "code",
   "execution_count": 59,
   "metadata": {},
   "outputs": [],
   "source": [
    "seasons = [\"2021-22\", \"2022-23\", \"2023-24\"]\n",
    "teams_abbr = [\n",
    "    \"BOS\", \"BKN\", \"NYK\", \"PHI\", \"TOR\",\n",
    "    \"CHI\", \"CLE\", \"DET\", \"IND\", \"MIL\",\n",
    "    \"ATL\", \"CHA\", \"MIA\", \"ORL\", \"WAS\",\n",
    "    \"DEN\", \"MIN\", \"OKC\", \"POR\", \"UTA\",\n",
    "    \"GSW\", \"LAC\", \"LAL\", \"PHX\", \"SAC\",\n",
    "    \"DAL\", \"HOU\", \"MEM\", \"NOP\", \"SAS\"\n",
    "]\n",
    "games = []"
   ]
  },
  {
   "cell_type": "code",
   "execution_count": 60,
   "metadata": {},
   "outputs": [],
   "source": [
    "for season in seasons:\n",
    "    gameFinder = leaguegamefinder.LeagueGameFinder(season_nullable=season, season_type_nullable=\"Regular Season\")\n",
    "    seasonGames = gameFinder.get_data_frames()[0]\n",
    "    seasonGames = seasonGames[seasonGames['TEAM_ABBREVIATION'].isin(teams_abbr)]\n",
    "    games.append(seasonGames)\n",
    "    time.sleep(2)\n",
    "\n",
    "games = pd.concat(games, ignore_index=True)\n",
    "games.to_csv(os.path.join(subdirectory, 'all_games_raw.csv'), index=False)"
   ]
  },
  {
   "cell_type": "code",
   "execution_count": null,
   "metadata": {},
   "outputs": [],
   "source": [
    "subdirectory = os.path.join(project_dir, r\"csvs\\team_files_raw\")\n",
    "if not os.path.exists(subdirectory):\n",
    "    print(f\"Creating subdirectory for 30 team files: {subdirectory}\")\n",
    "    os.makedirs(subdirectory)"
   ]
  },
  {
   "cell_type": "code",
   "execution_count": 63,
   "metadata": {},
   "outputs": [],
   "source": [
    "for team in teams_abbr:\n",
    "    team_games = games[games['TEAM_ABBREVIATION'] == team]\n",
    "    team_file_path = os.path.join(subdirectory, f\"{team}_games_stats.csv\")\n",
    "    team_games.to_csv(team_file_path, index=False)"
   ]
  },
  {
   "cell_type": "code",
   "execution_count": null,
   "metadata": {},
   "outputs": [],
   "source": [
    "subdirectory = os.path.join(project_dir, r\"csvs\\modified_team_files_raw\")\n",
    "if not os.path.exists(subdirectory):\n",
    "    print(f\"Creating subdirectory for 30 modified team files: {subdirectory}\")\n",
    "    os.makedirs(subdirectory)"
   ]
  },
  {
   "cell_type": "code",
   "execution_count": 65,
   "metadata": {},
   "outputs": [],
   "source": [
    "input_dir = os.path.join(project_dir, r\"csvs\\team_files_raw\")\n",
    "output_dir = os.path.join(project_dir, r\"csvs\\modified_team_files_raw\")\n",
    "\n",
    "team_files = [f for f in os.listdir(input_dir) if f.endswith(\".csv\")]\n",
    "\n",
    "for team in team_files:\n",
    "    team_path = os.path.join(input_dir, team)\n",
    "    team_data = pd.read_csv(team_path)\n",
    "    \n",
    "    if 'GAME_DATE' in team_data.columns:\n",
    "        team_data['GAME_DATE'] = pd.to_datetime(team_data['GAME_DATE'])\n",
    "        team_data = team_data.sort_values('GAME_DATE').reset_index(drop=True)\n",
    "    \n",
    "    numeric_cols = team_data.select_dtypes(include=['number']).columns\n",
    "\n",
    "    modified_data = team_data.copy()\n",
    "    \n",
    "    modified_data[numeric_cols] = modified_data[numeric_cols].astype(float)\n",
    "    \n",
    "    for i in range(len(team_data)):\n",
    "        if i == 0:\n",
    "            modified_data.loc[i, numeric_cols] = team_data.loc[i, numeric_cols]\n",
    "        else:\n",
    "            start_idx = max(0, i - 10)  \n",
    "            modified_data.loc[i, numeric_cols] = team_data.loc[start_idx:i-1, numeric_cols].mean()\n",
    "    \n",
    "    output_path = os.path.join(output_dir, f\"modified_{team}\")\n",
    "    modified_data.to_csv(output_path, index=False)"
   ]
  },
  {
   "cell_type": "code",
   "execution_count": 66,
   "metadata": {},
   "outputs": [],
   "source": [
    "output_dir = os.path.join(project_dir, r\"csvs\")\n",
    "\n",
    "games_one_row = games.groupby(\"GAME_ID\")\n",
    "\n",
    "team_one = games_one_row.nth(0).add_prefix(\"T1_\")\n",
    "modified_team_one_raw = pd.DataFrame(team_one)\n",
    "output_dir = os.path.join(project_dir, r\"csvs\")\n",
    "output_dir = os.path.join(output_dir, 'all_games_team_one.csv')\n",
    "modified_team_one_raw.to_csv(output_dir, index=False)\n",
    "\n",
    "team_two = games_one_row.nth(1).add_prefix(\"T2_\")\n",
    "modified_team_two_raw = pd.DataFrame(team_two)\n",
    "output_dir = os.path.join(project_dir, r\"csvs\")\n",
    "output_dir = os.path.join(output_dir, 'all_games_team_two.csv')\n",
    "modified_team_two_raw.to_csv(output_dir, index=False)\n",
    "\n",
    "modified_all_games_raw = pd.merge(team_one, team_two, left_on=\"T1_GAME_ID\", right_on=\"T2_GAME_ID\").reset_index().drop(columns='index')\n",
    "output_dir = os.path.join(project_dir, r\"csvs\")\n",
    "output_dir = os.path.join(output_dir, 'modified_all_games_raw.csv')\n",
    "modified_all_games_raw.to_csv(output_dir, index=False)"
   ]
  },
  {
   "cell_type": "code",
   "execution_count": 67,
   "metadata": {},
   "outputs": [],
   "source": [
    "modified_all_games_raw[\"T1_RB\"] = modified_all_games_raw[\"T1_OREB\"] + modified_all_games_raw[\"T1_DREB\"]\n",
    "modified_all_games_raw[\"T2_RB\"] = modified_all_games_raw[\"T2_OREB\"] + modified_all_games_raw[\"T2_DREB\"]"
   ]
  },
  {
   "cell_type": "code",
   "execution_count": 68,
   "metadata": {},
   "outputs": [],
   "source": [
    "columns_to_keep = [\n",
    "    \"T1_GAME_ID\", \"T1_GAME_DATE\", \"T1_TEAM_ABBREVIATION\", \n",
    "    \"T1_PTS\", \"T1_FG_PCT\", \"T1_FG3_PCT\", \"T1_FT_PCT\", \"T1_RB\", \"T1_AST\", \"T1_TOV\", \"T1_PF\", \n",
    "    \"T2_PTS\", \"T2_FG_PCT\", \"T2_FG3_PCT\", \"T2_FT_PCT\", \"T2_RB\", \"T2_AST\", \"T2_TOV\", \"T2_PF\", \n",
    "    \"T1_WL\"\n",
    "]\n",
    "filteredData = modified_all_games_raw[columns_to_keep]\n",
    "output_dir = os.path.join(project_dir, r\"csvs\")\n",
    "output_dir = os.path.join(output_dir, 'filtered_all_games.csv')\n",
    "filteredData.to_csv(output_dir, index=False)"
   ]
  },
  {
   "cell_type": "code",
   "execution_count": null,
   "metadata": {},
   "outputs": [],
   "source": [
    "subdirectory = os.path.join(project_dir, r\"csvs\\team_files_one_row\")\n",
    "if not os.path.exists(subdirectory):\n",
    "    print(f\"Creating subdirectory for 30 team files (+opponents stats): {subdirectory}\")\n",
    "    os.makedirs(subdirectory)"
   ]
  },
  {
   "cell_type": "code",
   "execution_count": null,
   "metadata": {},
   "outputs": [],
   "source": [
    "for team in teams_abbr:\n",
    "    team_games_with_opp = filteredData[filteredData['T1_TEAM_ABBREVIATION'] == team]\n",
    "    team_file_path = os.path.join(subdirectory, f\"{team}_games_wo_stats.csv\")\n",
    "    team_games_with_opp.to_csv(team_file_path, index=False)"
   ]
  },
  {
   "cell_type": "code",
   "execution_count": null,
   "metadata": {},
   "outputs": [],
   "source": [
    "subdirectory = os.path.join(project_dir, r\"csvs\\modified_team_files_one_row\")\n",
    "if not os.path.exists(subdirectory):\n",
    "    print(f\"Creating subdirectory for 30 modified team files: {subdirectory}\")\n",
    "    os.makedirs(subdirectory)"
   ]
  },
  {
   "cell_type": "code",
   "execution_count": 78,
   "metadata": {},
   "outputs": [],
   "source": [
    "input_dir = os.path.join(project_dir, r\"csvs\\team_files_one_row\")\n",
    "output_dir = os.path.join(project_dir, r\"csvs\\modified_team_files_one_row\")\n",
    "\n",
    "team_files = [f for f in os.listdir(input_dir) if f.endswith(\".csv\")]\n",
    "\n",
    "for team in team_files:\n",
    "    team_path = os.path.join(input_dir, team)\n",
    "    team_data = pd.read_csv(team_path)\n",
    "    \n",
    "    if 'T1_GAME_DATE' in team_data.columns:\n",
    "        team_data['T1_GAME_DATE'] = pd.to_datetime(team_data['T1_GAME_DATE'])\n",
    "        team_data = team_data.sort_values('T1_GAME_DATE').reset_index(drop=True)\n",
    "    \n",
    "    numeric_cols = [\n",
    "        \"T1_PTS\", \"T1_FG_PCT\", \"T1_FG3_PCT\", \"T1_FT_PCT\", \"T1_RB\", \"T1_AST\", \"T1_TOV\", \"T1_PF\", \n",
    "        \"T2_PTS\", \"T2_FG_PCT\", \"T2_FG3_PCT\", \"T2_FT_PCT\", \"T2_RB\", \"T2_AST\", \"T2_TOV\", \"T2_PF\"\n",
    "    ]\n",
    "    \n",
    "    modified_data = team_data.copy()\n",
    "\n",
    "    modified_data[numeric_cols] = modified_data[numeric_cols].astype(float)\n",
    "    \n",
    "    for i in range(len(team_data)):\n",
    "        if i == 0:\n",
    "            modified_data.loc[i, numeric_cols] = team_data.loc[i, numeric_cols]\n",
    "        else:\n",
    "            start_idx = max(0, i - 10)  \n",
    "            modified_data.loc[i, numeric_cols] = team_data.loc[start_idx:i-1, numeric_cols].mean()\n",
    "            \n",
    "    percentage_columns = [\"T1_FG_PCT\", \"T1_FG3_PCT\", \"T1_FT_PCT\", \"T2_FG_PCT\", \"T2_FG3_PCT\", \"T2_FT_PCT\"]\n",
    "    modified_data[percentage_columns] = modified_data[percentage_columns] * 100\n",
    "    \n",
    "    modified_data[numeric_cols] = modified_data[numeric_cols].round(2)\n",
    "    \n",
    "    output_path = os.path.join(output_dir, f\"modified_{team}\")\n",
    "    modified_data.to_csv(output_path, index=False)"
   ]
  }
 ],
 "metadata": {
  "kernelspec": {
   "display_name": "Python 3 (ipykernel)",
   "language": "python",
   "name": "python3"
  }
 },
 "nbformat": 4,
 "nbformat_minor": 2
}
