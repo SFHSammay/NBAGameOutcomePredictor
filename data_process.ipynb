{
 "cells": [
  {
   "cell_type": "code",
   "execution_count": 2,
   "metadata": {},
   "outputs": [],
   "source": [
    "import os\n",
    "import time\n",
    "import pandas as pd"
   ]
  },
  {
   "cell_type": "code",
   "execution_count": 3,
   "metadata": {},
   "outputs": [
    {
     "name": "stdout",
     "output_type": "stream",
     "text": [
      "Creating: D:\\NBANextGamePredictor\n",
      "Working directory: D:\\NBANextGamePredictor\n"
     ]
    }
   ],
   "source": [
    "#original_dir = os.getcwd()\n",
    "#print(original_dir)\n",
    "\n",
    "project_dir = r\"D:\\NBANextGamePredictor\" # Choose a Path to save your files (such as .ipnyb, .py, .csv)\n",
    "if not os.path.exists(project_dir):\n",
    "    print(f\"Creating: {project_dir}\")\n",
    "    os.makedirs(project_dir)\n",
    "\n",
    "os.chdir(project_dir)\n",
    "print(\"Working directory:\", os.getcwd())"
   ]
  },
  {
   "cell_type": "code",
   "execution_count": 4,
   "metadata": {},
   "outputs": [
    {
     "name": "stdout",
     "output_type": "stream",
     "text": [
      "Creating subdirectory for CSVs: D:\\NBANextGamePredictor\\csvs\n"
     ]
    }
   ],
   "source": [
    "subdirectory = os.path.join(project_dir, \"csvs\")\n",
    "if not os.path.exists(subdirectory):\n",
    "    print(f\"Creating subdirectory for CSVs: {subdirectory}\")\n",
    "    os.makedirs(subdirectory)"
   ]
  },
  {
   "cell_type": "code",
   "execution_count": 5,
   "metadata": {},
   "outputs": [],
   "source": [
    "from nba_api.stats.endpoints import leaguegamefinder\n",
    "\n",
    "seasons = [\"2021-22\", \"2022-23\", \"2023-24\"]\n",
    "allSeasons = []\n",
    "\n",
    "for season in seasons:\n",
    "    gameFinder = leaguegamefinder.LeagueGameFinder(season_nullable=season, season_type_nullable=\"Regular Season\")\n",
    "    games = gameFinder.get_data_frames()[0]\n",
    "    allSeasons.append(games)\n",
    "    time.sleep(2)\n",
    "allSeasonsConcat = pd.concat(allSeasons, ignore_index=True)\n",
    "#print(allSeasonsConcat)\n",
    "\n",
    "allSeasonsDir = os.path.join(subdirectory, 'regular_season.csv')\n",
    "allSeasonsConcat.to_csv(allSeasonsDir, index=False)"
   ]
  },
  {
   "cell_type": "code",
   "execution_count": null,
   "metadata": {},
   "outputs": [],
   "source": [
    "from nba_api.stats.endpoints import leaguegamefinder\n",
    "\n",
    "seasons = [\"2021-22\", \"2022-23\", \"2023-24\"]\n",
    "teams_abbr = [\n",
    "    \"BOS\", \"BKN\", \"NYK\", \"PHI\", \"TOR\",\n",
    "    \"CHI\", \"CLE\", \"DET\", \"IND\", \"MIL\",\n",
    "    \"ATL\", \"CHA\", \"MIA\", \"ORL\", \"WAS\",\n",
    "    \"DEN\", \"MIN\", \"OKC\", \"POR\", \"UTA\",\n",
    "    \"GSW\", \"LAC\", \"LAL\", \"PHX\", \"SAC\",\n",
    "    \"DAL\", \"HOU\", \"MEM\", \"NOP\", \"SAS\"\n",
    "]\n",
    "games = []\n",
    "\n",
    "for season in seasons:\n",
    "    gameFinder = leaguegamefinder.LeagueGameFinder(season_nullable=season, season_type_nullable=\"Regular Season\")\n",
    "    seasonGames = gameFinder.get_data_frames()[0]\n",
    "    seasonGames = seasonGames[seasonGames['TEAM_ABBREVIATION'].isin(teams_abbr)]\n",
    "    games.append(seasonGames)\n",
    "    time.sleep(2)\n",
    "\n",
    "games = pd.concat(games, ignore_index=True)\n",
    "games.to_csv(os.path.join(subdirectory, 'all_games_raw.csv'), index=False)"
   ]
  },
  {
   "cell_type": "code",
   "execution_count": 6,
   "metadata": {},
   "outputs": [],
   "source": [
    "from nba_api.stats.endpoints import leaguegamefinder\n",
    "\n",
    "seasons = [\"2021-22\", \"2022-23\", \"2023-24\"]\n",
    "teams_abbr = [\n",
    "    \"BOS\", \"BKN\", \"NYK\", \"PHI\", \"TOR\",\n",
    "    \"CHI\", \"CLE\", \"DET\", \"IND\", \"MIL\",\n",
    "    \"ATL\", \"CHA\", \"MIA\", \"ORL\", \"WAS\",\n",
    "    \"DEN\", \"MIN\", \"OKC\", \"POR\", \"UTA\",\n",
    "    \"GSW\", \"LAC\", \"LAL\", \"PHX\", \"SAC\",\n",
    "    \"DAL\", \"HOU\", \"MEM\", \"NOP\", \"SAS\"\n",
    "]\n",
    "\n",
    "# Directory to save team files\n",
    "output_dir = \"team_files\"\n",
    "os.makedirs(output_dir, exist_ok=True)  # Create the directory if it doesn't exist\n",
    "\n",
    "# Loop through each team and save stats to separate files\n",
    "for team_abbr in teams_abbr:\n",
    "    team_games = games[games['TEAM_ABBREVIATION'] == team_abbr]  # Filter data for the team\n",
    "    team_file_path = os.path.join(output_dir, f\"{team_abbr}_games_stats.csv\")  # Set file path\n",
    "    team_games.to_csv(team_file_path, index=False)  # Save to CSV"
   ]
  },
  {
   "cell_type": "code",
   "execution_count": 7,
   "metadata": {},
   "outputs": [],
   "source": [
    "allSeasons_OneRow = allSeasonsConcat.groupby(\"GAME_ID\")\n",
    "allSeasons1RowDF = pd.DataFrame(allSeasons_OneRow)\n",
    "allSeasonsDir = os.path.join(subdirectory, 'regular_season_one_row.csv')\n",
    "allSeasons1RowDF.to_csv(allSeasonsDir, index=False)"
   ]
  },
  {
   "cell_type": "code",
   "execution_count": 8,
   "metadata": {},
   "outputs": [],
   "source": [
    "T1 = allSeasons_OneRow.nth(0).add_prefix(\"T1_\")\n",
    "T2 = allSeasons_OneRow.nth(1).add_prefix(\"T2_\")\n",
    "\n",
    "allSeasons1RowDF = pd.DataFrame(T1)\n",
    "allSeasonsDir = os.path.join(subdirectory, 'regular_season_Team_1.csv')\n",
    "allSeasons1RowDF.to_csv(allSeasonsDir, index=False)\n",
    "\n",
    "allSeasons1RowDF = pd.DataFrame(T2)\n",
    "allSeasonsDir = os.path.join(subdirectory, 'regular_season_Team_2.csv')\n",
    "allSeasons1RowDF.to_csv(allSeasonsDir, index=False)"
   ]
  },
  {
   "cell_type": "code",
   "execution_count": 9,
   "metadata": {},
   "outputs": [],
   "source": [
    "mergedData = pd.merge(T1, T2, left_on=\"T1_GAME_ID\", right_on=\"T2_GAME_ID\").reset_index()\n",
    "mergedDir = os.path.join(subdirectory, 'merged_data.csv')\n",
    "mergedData.to_csv(mergedDir, index=False)\n"
   ]
  },
  {
   "cell_type": "code",
   "execution_count": 10,
   "metadata": {},
   "outputs": [],
   "source": [
    "columns_to_keep = [\n",
    "    \"T1_GAME_ID\", \"T1_WL\", \"T1_PTS\", \"T1_FGM\", \"T1_FGA\", \"T1_FG_PCT\", \"T1_FG3M\", \"T1_FG3A\", \n",
    "    \"T1_FG3_PCT\", \"T1_FTM\", \"T1_FTA\", \"T1_FT_PCT\", \"T1_OREB\", \"T1_DREB\", \"T1_AST\", \"T1_TOV\", \n",
    "    \"T1_PF\", \n",
    "    \"T2_WL\", \"T2_PTS\", \"T2_FGM\", \"T2_FGA\", \"T2_FG_PCT\", \"T2_FG3M\", \"T2_FG3A\", \"T2_FG3_PCT\",\n",
    "    \"T2_FTM\", \"T2_FTA\", \"T2_FT_PCT\", \"T2_OREB\", \"T2_DREB\", \"T2_AST\", \"T2_TOV\", \"T2_PF\"\n",
    "]\n",
    "filteredData = mergedData[columns_to_keep]\n",
    "filteredDir = os.path.join(subdirectory, 'filtered_data.csv')\n",
    "filteredData.to_csv(filteredDir, index=False)"
   ]
  }
 ],
 "metadata": {
  "kernelspec": {
   "display_name": "Python 3",
   "language": "python",
   "name": "python3"
  },
  "language_info": {
   "codemirror_mode": {
    "name": "ipython",
    "version": 3
   },
   "file_extension": ".py",
   "mimetype": "text/x-python",
   "name": "python",
   "nbconvert_exporter": "python",
   "pygments_lexer": "ipython3",
   "version": "3.10.6"
  }
 },
 "nbformat": 4,
 "nbformat_minor": 2
}
