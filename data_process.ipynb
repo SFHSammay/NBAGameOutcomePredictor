{
 "cells": [
  {
   "cell_type": "code",
   "execution_count": 42,
   "metadata": {},
   "outputs": [],
   "source": [
    "import os\n",
    "import time\n",
    "import pandas as pd"
   ]
  },
  {
   "cell_type": "code",
   "execution_count": null,
   "metadata": {},
   "outputs": [],
   "source": [
    "#original_dir = os.getcwd()\n",
    "#print(original_dir)\n",
    "\n",
    "project_dir = r\"D:\\NBANextGamePredictor\" # Choose a Path to save your files (such as .ipnyb, .py, .csv)\n",
    "if not os.path.exists(project_dir):\n",
    "    print(f\"Creating: {project_dir}\")\n",
    "    os.makedirs(project_dir)\n",
    "\n",
    "os.chdir(project_dir)\n",
    "print(\"Working directory:\", os.getcwd())"
   ]
  },
  {
   "cell_type": "code",
   "execution_count": 44,
   "metadata": {},
   "outputs": [],
   "source": [
    "subdirectory = os.path.join(project_dir, \"csvs\")\n",
    "if not os.path.exists(subdirectory):\n",
    "    print(f\"Creating subdirectory for CSVs: {subdirectory}\")\n",
    "    os.makedirs(subdirectory)"
   ]
  },
  {
   "cell_type": "code",
   "execution_count": 50,
   "metadata": {},
   "outputs": [],
   "source": [
    "from nba_api.stats.endpoints import leaguegamefinder\n",
    "\n",
    "seasons = [\"2022-23\", \"2023-24\"]\n",
    "allSeasons = []\n",
    "\n",
    "for season in seasons:\n",
    "    gameFinder = leaguegamefinder.LeagueGameFinder(season_nullable=season, season_type_nullable=\"Regular Season\")\n",
    "    games = gameFinder.get_data_frames()[0]\n",
    "    allSeasons.append(games)\n",
    "    time.sleep(2)\n",
    "allSeasonsConcat = pd.concat(allSeasons, ignore_index=True)\n",
    "#print(allSeasonsConcat)\n",
    "\n",
    "allSeasonsDir = os.path.join(subdirectory, 'regular_season.csv')\n",
    "allSeasonsConcat.to_csv(allSeasonsDir, index=False)"
   ]
  },
  {
   "cell_type": "code",
   "execution_count": 46,
   "metadata": {},
   "outputs": [],
   "source": [
    "allSeasons_OneRow = allSeasonsConcat.groupby(\"GAME_ID\")\n",
    "allSeasons1RowDF = pd.DataFrame(allSeasons_OneRow)\n",
    "allSeasonsDir = os.path.join(subdirectory, 'regular_season_one_row.csv')\n",
    "allSeasons1RowDF.to_csv(allSeasonsDir, index=False)"
   ]
  },
  {
   "cell_type": "code",
   "execution_count": 47,
   "metadata": {},
   "outputs": [],
   "source": [
    "T1 = allSeasons_OneRow.nth(0).add_prefix(\"T1_\")\n",
    "T2 = allSeasons_OneRow.nth(1).add_prefix(\"T2_\")\n",
    "\n",
    "allSeasons1RowDF = pd.DataFrame(T1)\n",
    "allSeasonsDir = os.path.join(subdirectory, 'regular_season_Team_1.csv')\n",
    "allSeasons1RowDF.to_csv(allSeasonsDir, index=False)\n",
    "\n",
    "allSeasons1RowDF = pd.DataFrame(T2)\n",
    "allSeasonsDir = os.path.join(subdirectory, 'regular_season_Team_2.csv')\n",
    "allSeasons1RowDF.to_csv(allSeasonsDir, index=False)"
   ]
  },
  {
   "cell_type": "code",
   "execution_count": 48,
   "metadata": {},
   "outputs": [],
   "source": [
    "mergedData = pd.merge(T1, T2, left_on=\"T1_GAME_ID\", right_on=\"T2_GAME_ID\").reset_index()\n",
    "mergedDir = os.path.join(subdirectory, 'merged_data.csv')\n",
    "mergedData.to_csv(mergedDir, index=False)\n"
   ]
  },
  {
   "cell_type": "code",
   "execution_count": 49,
   "metadata": {},
   "outputs": [],
   "source": [
    "columns_to_keep = [\n",
    "    \"T1_GAME_ID\", \"T1_WL\", \"T1_PTS\", \"T1_FGM\", \"T1_FGA\", \"T1_FG_PCT\", \"T1_FG3M\", \"T1_FG3A\", \n",
    "    \"T1_FG3_PCT\", \"T1_FTM\", \"T1_FTA\", \"T1_FT_PCT\", \"T1_OREB\", \"T1_DREB\", \"T1_AST\", \"T1_TOV\", \n",
    "    \"T1_PF\", \n",
    "    \"T2_WL\", \"T2_PTS\", \"T2_FGM\", \"T2_FGA\", \"T2_FG_PCT\", \"T2_FG3M\", \"T2_FG3A\", \"T2_FG3_PCT\",\n",
    "    \"T2_FTM\", \"T2_FTA\", \"T2_FT_PCT\", \"T2_OREB\", \"T2_DREB\", \"T2_AST\", \"T2_TOV\", \"T2_PF\"\n",
    "]\n",
    "filteredData = mergedData[columns_to_keep]\n",
    "filteredDir = os.path.join(subdirectory, 'filtered_data.csv')\n",
    "filteredData.to_csv(filteredDir, index=False)"
   ]
  }
 ],
 "metadata": {
  "kernelspec": {
   "display_name": "Python 3 (ipykernel)",
   "language": "python",
   "name": "python3"
  },
  "language_info": {
   "codemirror_mode": {
    "name": "ipython",
    "version": 3
   },
   "file_extension": ".py",
   "mimetype": "text/x-python",
   "name": "python",
   "nbconvert_exporter": "python",
   "pygments_lexer": "ipython3",
   "version": "3.10.0"
  }
 },
 "nbformat": 4,
 "nbformat_minor": 2
}
